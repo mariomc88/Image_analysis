{
 "cells": [
  {
   "cell_type": "markdown",
   "metadata": {
    "collapsed": false
   },
   "source": [
    "# Práctica 4 - Deep Learning en Imagen Médica\n",
    "\n",
    "Grupo 14:\n",
    "- Mario Campos Vicente\n",
    "- Adrián Sequera Robledo\n",
    "- Gonzalo Lardiés Guillén\n"
   ]
  },
  {
   "cell_type": "markdown",
   "metadata": {
    "collapsed": false
   },
   "source": [
    "En primer lugar importamos los módulos necesarios para realizar la práctica:"
   ]
  },
  {
   "cell_type": "code",
   "execution_count": 4,
   "metadata": {
    "collapsed": false,
    "id": "X9qCTVr5OKbq"
   },
   "outputs": [
   ],
   "source": [
    "import matplotlib.pyplot as plt\n",
    "from datetime import datetime\n",
    "import numpy as np\n",
    "import random\n",
    "import os"
   ]
  },
  {
   "cell_type": "code",
   "execution_count": 5,
   "metadata": {
    "collapsed": false,
    "id": "ZfhaphyrOKbu"
   },
   "outputs": [
   ],
   "source": [
    "import matplotlib.pyplot as plt\n",
    "import statistics as stats\n",
    "import pandas as pd\n",
    "import scipy.stats\n",
    "import numpy as np\n",
    "from skimage import io, exposure #Para los histogramas de las imágenes"
   ]
  },
  {
   "cell_type": "code",
   "execution_count": 0,
   "metadata": {
    "collapsed": false,
    "id": "Z9KWViE6OKb3"
   },
   "outputs": [
   ],
   "source": [
    "# Importamos los módulos necesarios para redes convolucionales\n",
    "from sklearn.metrics import confusion_matrix\n",
    "import seaborn as sn; sn.set(font_scale=1.4)\n",
    "from sklearn.utils import shuffle                                                       \n",
    "import tensorflow as tf                \n",
    "from tqdm import tqdm\n",
    "from sklearn.model_selection import train_test_split\n",
    "from tensorflow import keras"
   ]
  },
  {
   "cell_type": "markdown",
   "metadata": {
    "collapsed": false,
    "id": "8DYEDSQHOKbw"
   },
   "source": [
    "## 1. Carga de imágenes y análisis de histogramas"
   ]
  },
  {
   "cell_type": "code",
   "execution_count": 6,
   "metadata": {
    "colab": {
     "base_uri": "https://localhost:8080/"
    },
    "collapsed": false,
    "id": "qZUU0hpyOwYw",
    "outputId": "64098f3f-180d-43f3-c937-ef3b9e2f10f6"
   },
   "outputs": [
    {
     "ename": "ModuleNotFoundError",
     "evalue": "No module named 'google.colab'",
     "output_type": "error",
     "traceback": [
      "\u001b[0;31m---------------------------------------------------------------------------\u001b[0m",
      "\u001b[0;31mModuleNotFoundError\u001b[0m                       Traceback (most recent call last)",
      "\u001b[0;32m<ipython-input-6-636f7e70c0f3>\u001b[0m in \u001b[0;36m<module>\u001b[0;34m\u001b[0m\n\u001b[0;32m----> 1\u001b[0;31m \u001b[0;32mfrom\u001b[0m \u001b[0mgoogle\u001b[0m\u001b[0;34m.\u001b[0m\u001b[0mcolab\u001b[0m \u001b[0;32mimport\u001b[0m \u001b[0mdrive\u001b[0m\u001b[0;34m\u001b[0m\u001b[0;34m\u001b[0m\u001b[0m\n\u001b[0m\u001b[1;32m      2\u001b[0m \u001b[0mdrive\u001b[0m\u001b[0;34m.\u001b[0m\u001b[0mmount\u001b[0m\u001b[0;34m(\u001b[0m\u001b[0;34m'/content/drive'\u001b[0m\u001b[0;34m,\u001b[0m\u001b[0mforce_remount\u001b[0m\u001b[0;34m=\u001b[0m\u001b[0;32mTrue\u001b[0m\u001b[0;34m)\u001b[0m\u001b[0;34m\u001b[0m\u001b[0;34m\u001b[0m\u001b[0m\n",
      "\u001b[0;31mModuleNotFoundError\u001b[0m: No module named 'google.colab'"
     ]
    }
   ],
   "source": [
    "from google.colab import drive\n",
    "drive.mount('/content/drive',force_remount=True)"
   ]
  },
  {
   "cell_type": "markdown",
   "metadata": {
    "collapsed": false,
    "id": "1GZncjwpOKbw"
   },
   "source": [
    "* Cargamos la base de datos"
   ]
  },
  {
   "cell_type": "code",
   "execution_count": 0,
   "metadata": {
    "colab": {
     "base_uri": "https://localhost:8080/",
     "height": 552
    },
    "collapsed": false,
    "id": "lYn8sClnOKbx",
    "outputId": "ce33a30e-56a0-4589-d0b2-eb40d73b5f8f"
   },
   "outputs": [
   ],
   "source": [
    "data = pd.read_csv(\"/content/drive/MyDrive/Práctica4_AIM/labels.csv\")\n",
    "data.hist(figsize=(12, 9), bins=70, xlabelsize=8, ylabelsize=8);"
   ]
  },
  {
   "cell_type": "markdown",
   "metadata": {
    "collapsed": false,
    "id": "9EhyazCn8vQo"
   },
   "source": [
    "* Hemos importado los archivos de imagen y labels. A continuación hemos representado el histograma de las 3 primeras imágenes."
   ]
  },
  {
   "cell_type": "code",
   "execution_count": 7,
   "metadata": {
    "colab": {
     "base_uri": "https://localhost:8080/",
     "height": 656
    },
    "collapsed": false,
    "id": "gtiRiQOGOKby",
    "outputId": "0bcc9680-da3c-432a-b98c-30f1650a6ae0"
   },
   "outputs": [
    {
     "ename": "NameError",
     "evalue": "name 'data' is not defined",
     "output_type": "error",
     "traceback": [
      "\u001b[0;31m---------------------------------------------------------------------------\u001b[0m",
      "\u001b[0;31mNameError\u001b[0m                                 Traceback (most recent call last)",
      "\u001b[0;32m<ipython-input-7-8e3513074d51>\u001b[0m in \u001b[0;36m<module>\u001b[0;34m\u001b[0m\n\u001b[1;32m      1\u001b[0m \u001b[0;31m#Vemos que es una base de datos balanceada donde tenemos el mismo número de etiquetas para cada clase\u001b[0m\u001b[0;34m\u001b[0m\u001b[0;34m\u001b[0m\u001b[0;34m\u001b[0m\u001b[0m\n\u001b[0;32m----> 2\u001b[0;31m \u001b[0mplt\u001b[0m\u001b[0;34m.\u001b[0m\u001b[0mhist\u001b[0m\u001b[0;34m(\u001b[0m\u001b[0mdata\u001b[0m\u001b[0;34m[\u001b[0m\u001b[0;34m'hemorrhage'\u001b[0m\u001b[0;34m]\u001b[0m\u001b[0;34m,\u001b[0m \u001b[0mbins\u001b[0m\u001b[0;34m=\u001b[0m\u001b[0;36m70\u001b[0m\u001b[0;34m,\u001b[0m \u001b[0mlabel\u001b[0m\u001b[0;34m=\u001b[0m\u001b[0;34m'Hemorragia'\u001b[0m\u001b[0;34m)\u001b[0m\u001b[0;34m\u001b[0m\u001b[0;34m\u001b[0m\u001b[0m\n\u001b[0m",
      "\u001b[0;31mNameError\u001b[0m: name 'data' is not defined"
     ]
    }
   ],
   "source": [
    "#Vemos que es una base de datos balanceada donde tenemos el mismo número de etiquetas para cada clase\n",
    "plt.hist(data['hemorrhage'], bins=70, label='Hemorragia')"
   ]
  },
  {
   "cell_type": "code",
   "execution_count": 8,
   "metadata": {
    "colab": {
     "base_uri": "https://localhost:8080/"
    },
    "collapsed": false,
    "id": "LZ5tEJo_zhvv",
    "outputId": "87d59b1c-5922-45b2-c082-36307fd25b1b"
   },
   "outputs": [
    {
     "ename": "NameError",
     "evalue": "name 'data' is not defined",
     "output_type": "error",
     "traceback": [
      "\u001b[0;31m---------------------------------------------------------------------------\u001b[0m",
      "\u001b[0;31mNameError\u001b[0m                                 Traceback (most recent call last)",
      "\u001b[0;32m<ipython-input-8-a690caf270ad>\u001b[0m in \u001b[0;36m<module>\u001b[0;34m\u001b[0m\n\u001b[0;32m----> 1\u001b[0;31m \u001b[0mprint\u001b[0m\u001b[0;34m(\u001b[0m\u001b[0mdata\u001b[0m\u001b[0;34m[\u001b[0m\u001b[0;34m\"hemorrhage\"\u001b[0m\u001b[0;34m]\u001b[0m\u001b[0;34m)\u001b[0m\u001b[0;34m\u001b[0m\u001b[0;34m\u001b[0m\u001b[0m\n\u001b[0m",
      "\u001b[0;31mNameError\u001b[0m: name 'data' is not defined"
     ]
    }
   ],
   "source": [
    "print(data[\"hemorrhage\"])"
   ]
  },
  {
   "cell_type": "markdown",
   "metadata": {
    "collapsed": false,
    "id": "OkcOD4meOKby"
   },
   "source": [
    "* Cargamos las imágenes"
   ]
  },
  {
   "cell_type": "code",
   "execution_count": 1,
   "metadata": {
    "collapsed": false,
    "id": "78okEUTQOKbz"
   },
   "outputs": [
   ],
   "source": [
    "import cv2\n",
    "\n",
    "# Función para cargar todas las imágenes en una lista\n",
    "def load_images_from_folder(folder):\n",
    "    images = []\n",
    "    lista_rutas = [os.path.join(folder,str(i).zfill(3)+'.png') for i in range(0,200)]\n",
    "    for filename in lista_rutas:\n",
    "      img = cv2.imread(filename, 0)\n",
    "      if img is not None:\n",
    "        images.append(img)\n",
    "    return images"
   ]
  },
  {
   "cell_type": "code",
   "execution_count": 2,
   "metadata": {
    "collapsed": false,
    "id": "Vmum8csTSU3L"
   },
   "outputs": [
    {
     "ename": "NameError",
     "evalue": "name 'os' is not defined",
     "output_type": "error",
     "traceback": [
      "\u001b[0;31m---------------------------------------------------------------------------\u001b[0m",
      "\u001b[0;31mNameError\u001b[0m                                 Traceback (most recent call last)",
      "\u001b[0;32m<ipython-input-2-e5afb1575454>\u001b[0m in \u001b[0;36m<module>\u001b[0;34m\u001b[0m\n\u001b[0;32m----> 1\u001b[0;31m \u001b[0marray_imagenes\u001b[0m \u001b[0;34m=\u001b[0m \u001b[0mload_images_from_folder\u001b[0m\u001b[0;34m(\u001b[0m\u001b[0mfolder\u001b[0m\u001b[0;34m=\u001b[0m\u001b[0;34m'/content/drive/MyDrive/Práctica4_AIM/head_ct'\u001b[0m\u001b[0;34m)\u001b[0m\u001b[0;34m\u001b[0m\u001b[0;34m\u001b[0m\u001b[0m\n\u001b[0m",
      "\u001b[0;32m<ipython-input-1-a2b887f65d37>\u001b[0m in \u001b[0;36mload_images_from_folder\u001b[0;34m(folder)\u001b[0m\n\u001b[1;32m      4\u001b[0m \u001b[0;32mdef\u001b[0m \u001b[0mload_images_from_folder\u001b[0m\u001b[0;34m(\u001b[0m\u001b[0mfolder\u001b[0m\u001b[0;34m)\u001b[0m\u001b[0;34m:\u001b[0m\u001b[0;34m\u001b[0m\u001b[0;34m\u001b[0m\u001b[0m\n\u001b[1;32m      5\u001b[0m     \u001b[0mimages\u001b[0m \u001b[0;34m=\u001b[0m \u001b[0;34m[\u001b[0m\u001b[0;34m]\u001b[0m\u001b[0;34m\u001b[0m\u001b[0;34m\u001b[0m\u001b[0m\n\u001b[0;32m----> 6\u001b[0;31m     \u001b[0mlista_rutas\u001b[0m \u001b[0;34m=\u001b[0m \u001b[0;34m[\u001b[0m\u001b[0mos\u001b[0m\u001b[0;34m.\u001b[0m\u001b[0mpath\u001b[0m\u001b[0;34m.\u001b[0m\u001b[0mjoin\u001b[0m\u001b[0;34m(\u001b[0m\u001b[0mfolder\u001b[0m\u001b[0;34m,\u001b[0m\u001b[0mstr\u001b[0m\u001b[0;34m(\u001b[0m\u001b[0mi\u001b[0m\u001b[0;34m)\u001b[0m\u001b[0;34m.\u001b[0m\u001b[0mzfill\u001b[0m\u001b[0;34m(\u001b[0m\u001b[0;36m3\u001b[0m\u001b[0;34m)\u001b[0m\u001b[0;34m+\u001b[0m\u001b[0;34m'.png'\u001b[0m\u001b[0;34m)\u001b[0m \u001b[0;32mfor\u001b[0m \u001b[0mi\u001b[0m \u001b[0;32min\u001b[0m \u001b[0mrange\u001b[0m\u001b[0;34m(\u001b[0m\u001b[0;36m0\u001b[0m\u001b[0;34m,\u001b[0m\u001b[0;36m200\u001b[0m\u001b[0;34m)\u001b[0m\u001b[0;34m]\u001b[0m\u001b[0;34m\u001b[0m\u001b[0;34m\u001b[0m\u001b[0m\n\u001b[0m\u001b[1;32m      7\u001b[0m     \u001b[0;32mfor\u001b[0m \u001b[0mfilename\u001b[0m \u001b[0;32min\u001b[0m \u001b[0mlista_rutas\u001b[0m\u001b[0;34m:\u001b[0m\u001b[0;34m\u001b[0m\u001b[0;34m\u001b[0m\u001b[0m\n\u001b[1;32m      8\u001b[0m       \u001b[0mimg\u001b[0m \u001b[0;34m=\u001b[0m \u001b[0mcv2\u001b[0m\u001b[0;34m.\u001b[0m\u001b[0mimread\u001b[0m\u001b[0;34m(\u001b[0m\u001b[0mfilename\u001b[0m\u001b[0;34m,\u001b[0m \u001b[0;36m0\u001b[0m\u001b[0;34m)\u001b[0m\u001b[0;34m\u001b[0m\u001b[0;34m\u001b[0m\u001b[0m\n",
      "\u001b[0;32m<ipython-input-1-a2b887f65d37>\u001b[0m in \u001b[0;36m<listcomp>\u001b[0;34m(.0)\u001b[0m\n\u001b[1;32m      4\u001b[0m \u001b[0;32mdef\u001b[0m \u001b[0mload_images_from_folder\u001b[0m\u001b[0;34m(\u001b[0m\u001b[0mfolder\u001b[0m\u001b[0;34m)\u001b[0m\u001b[0;34m:\u001b[0m\u001b[0;34m\u001b[0m\u001b[0;34m\u001b[0m\u001b[0m\n\u001b[1;32m      5\u001b[0m     \u001b[0mimages\u001b[0m \u001b[0;34m=\u001b[0m \u001b[0;34m[\u001b[0m\u001b[0;34m]\u001b[0m\u001b[0;34m\u001b[0m\u001b[0;34m\u001b[0m\u001b[0m\n\u001b[0;32m----> 6\u001b[0;31m     \u001b[0mlista_rutas\u001b[0m \u001b[0;34m=\u001b[0m \u001b[0;34m[\u001b[0m\u001b[0mos\u001b[0m\u001b[0;34m.\u001b[0m\u001b[0mpath\u001b[0m\u001b[0;34m.\u001b[0m\u001b[0mjoin\u001b[0m\u001b[0;34m(\u001b[0m\u001b[0mfolder\u001b[0m\u001b[0;34m,\u001b[0m\u001b[0mstr\u001b[0m\u001b[0;34m(\u001b[0m\u001b[0mi\u001b[0m\u001b[0;34m)\u001b[0m\u001b[0;34m.\u001b[0m\u001b[0mzfill\u001b[0m\u001b[0;34m(\u001b[0m\u001b[0;36m3\u001b[0m\u001b[0;34m)\u001b[0m\u001b[0;34m+\u001b[0m\u001b[0;34m'.png'\u001b[0m\u001b[0;34m)\u001b[0m \u001b[0;32mfor\u001b[0m \u001b[0mi\u001b[0m \u001b[0;32min\u001b[0m \u001b[0mrange\u001b[0m\u001b[0;34m(\u001b[0m\u001b[0;36m0\u001b[0m\u001b[0;34m,\u001b[0m\u001b[0;36m200\u001b[0m\u001b[0;34m)\u001b[0m\u001b[0;34m]\u001b[0m\u001b[0;34m\u001b[0m\u001b[0;34m\u001b[0m\u001b[0m\n\u001b[0m\u001b[1;32m      7\u001b[0m     \u001b[0;32mfor\u001b[0m \u001b[0mfilename\u001b[0m \u001b[0;32min\u001b[0m \u001b[0mlista_rutas\u001b[0m\u001b[0;34m:\u001b[0m\u001b[0;34m\u001b[0m\u001b[0;34m\u001b[0m\u001b[0m\n\u001b[1;32m      8\u001b[0m       \u001b[0mimg\u001b[0m \u001b[0;34m=\u001b[0m \u001b[0mcv2\u001b[0m\u001b[0;34m.\u001b[0m\u001b[0mimread\u001b[0m\u001b[0;34m(\u001b[0m\u001b[0mfilename\u001b[0m\u001b[0;34m,\u001b[0m \u001b[0;36m0\u001b[0m\u001b[0;34m)\u001b[0m\u001b[0;34m\u001b[0m\u001b[0;34m\u001b[0m\u001b[0m\n",
      "\u001b[0;31mNameError\u001b[0m: name 'os' is not defined"
     ]
    }
   ],
   "source": [
    "array_imagenes = load_images_from_folder(folder='/content/drive/MyDrive/Práctica4_AIM/head_ct')"
   ]
  },
  {
   "cell_type": "code",
   "execution_count": 3,
   "metadata": {
    "colab": {
     "base_uri": "https://localhost:8080/",
     "height": 286
    },
    "collapsed": false,
    "id": "XfWdLB6EOKbz",
    "outputId": "9bf6fe45-98ce-4da4-e894-f9ae8051316a"
   },
   "outputs": [
    {
     "ename": "NameError",
     "evalue": "name 'plt' is not defined",
     "output_type": "error",
     "traceback": [
      "\u001b[0;31m---------------------------------------------------------------------------\u001b[0m",
      "\u001b[0;31mNameError\u001b[0m                                 Traceback (most recent call last)",
      "\u001b[0;32m<ipython-input-3-a23ed1a5cf6b>\u001b[0m in \u001b[0;36m<module>\u001b[0;34m\u001b[0m\n\u001b[1;32m      1\u001b[0m \u001b[0;31m#Imprimimos una de las imágenes para ver si está correctamente realizado el proceso\u001b[0m\u001b[0;34m\u001b[0m\u001b[0;34m\u001b[0m\u001b[0;34m\u001b[0m\u001b[0m\n\u001b[0;32m----> 2\u001b[0;31m \u001b[0mplt\u001b[0m\u001b[0;34m.\u001b[0m\u001b[0mimshow\u001b[0m\u001b[0;34m(\u001b[0m\u001b[0marray_imagenes\u001b[0m\u001b[0;34m[\u001b[0m\u001b[0;36m2\u001b[0m\u001b[0;34m]\u001b[0m\u001b[0;34m)\u001b[0m\u001b[0;34m\u001b[0m\u001b[0;34m\u001b[0m\u001b[0m\n\u001b[0m",
      "\u001b[0;31mNameError\u001b[0m: name 'plt' is not defined"
     ]
    }
   ],
   "source": [
    "# Imprimimos una de las imágenes para ver si está correctamente realizado el proceso\n",
    "plt.imshow(array_imagenes[2])"
   ]
  },
  {
   "cell_type": "code",
   "execution_count": 0,
   "metadata": {
    "colab": {
     "base_uri": "https://localhost:8080/"
    },
    "collapsed": false,
    "id": "3aVvsLLCOKb0",
    "outputId": "c8dd9b92-da9c-42f3-8de9-ffcf1e790daa"
   },
   "outputs": [
    {
     "name": "stdout",
     "output_type": "stream",
     "text": [
      "El tamaño de la imagen 2 es: (725, 662, 3) . Su máximo valor de gris es: 255\n",
      "El tamaño de la imagen 2 es: (285, 247, 3) . Su máximo valor de gris es: 253\n"
     ]
    }
   ],
   "source": [
    "print('El tamaño de la imagen 2 es:',array_imagenes[2].shape,'. Su máximo valor de gris es:',np.max(array_imagenes[2]))\n",
    "print('El tamaño de la imagen 2 es:',array_imagenes[10].shape,'. Su máximo valor de gris es:',np.max(array_imagenes[10]))"
   ]
  },
  {
   "cell_type": "code",
   "execution_count": 0,
   "metadata": {
    "colab": {
     "base_uri": "https://localhost:8080/",
     "height": 286
    },
    "collapsed": false,
    "id": "G2outONsOKb0",
    "outputId": "f4d4a6b3-1779-4ff5-c74c-adb01ac9da4b"
   },
   "outputs": [
    {
     "name": "stdout",
     "output_type": "stream",
     "text": [
      "255\n"
     ]
    },
    {
     "data": {
      "image/png": "[encoded data removed]",
      "text/plain": [
       "<Figure size 432x288 with 1 Axes>"
      ]
     },
     "execution_count": 0,
     "metadata": {
      "needs_background": "light",
      "tags": [
      ]
     },
     "output_type": "execute_result"
    }
   ],
   "source": [
    "# Como se puede apreciar es multicanal\n",
    "plt.imshow(array_imagenes[2][0:725,0:662,0],cmap='gray')\n",
    "print(np.max(array_imagenes[2][0:725,0:662,2]))"
   ]
  },
  {
   "cell_type": "code",
   "execution_count": 0,
   "metadata": {
    "colab": {
     "base_uri": "https://localhost:8080/"
    },
    "collapsed": false,
    "id": "CfuxRB46aq12",
    "outputId": "38787186-c7ca-4e9a-e783-41bb140fdd39"
   },
   "outputs": [
    {
     "name": "stdout",
     "output_type": "stream",
     "text": [
      "True\n"
     ]
    }
   ],
   "source": [
    "imagen1, imagen2, imagen3 = array_imagenes[10][0:725,0:662,0], array_imagenes[10][0:725,0:662,1], array_imagenes[10][0:725,0:662,2]\n",
    "comparacion = imagen1==imagen3\n",
    "comparacion2 = comparacion.all()\n",
    "print(comparacion2)"
   ]
  },
  {
   "cell_type": "code",
   "execution_count": 0,
   "metadata": {
    "colab": {
     "base_uri": "https://localhost:8080/",
     "height": 733
    },
    "collapsed": false,
    "id": "iVkjXaG8ZaA3",
    "outputId": "43996713-b956-4f05-8f2a-9ddf3df1cd83"
   },
   "outputs": [
    {
     "data": {
      "text/plain": [
       "Text(0.5, 1.0, 'Histograma tercera imagen')"
      ]
     },
     "execution_count": 0,
     "metadata": {
      "tags": [
      ]
     },
     "output_type": "execute_result"
    },
    {
     "data": {
      "image/png": "[encoded data removed]",
      "text/plain": [
       "<Figure size 1440x864 with 3 Axes>"
      ]
     },
     "execution_count": 0,
     "metadata": {
      "needs_background": "light",
      "tags": [
      ]
     },
     "output_type": "execute_result"
    }
   ],
   "source": [
    "counts, bins = exposure.histogram(array_imagenes[2][0:725,0:662,0])\r\n",
    "counts2, bins2 = exposure.histogram(array_imagenes[2][0:725,0:662,1])\r\n",
    "counts3, bins3 = exposure.histogram(array_imagenes[2][0:725,0:662,2])\r\n",
    "\r\n",
    "\r\n",
    "fig = plt.figure(figsize=(20, 12))\r\n",
    "ax1 = fig.add_subplot(1,3,1)\r\n",
    "ax1.plot(bins,counts)\r\n",
    "ax1.set_title('Histograma primera imagen')\r\n",
    "\r\n",
    "ax2 = fig.add_subplot(1,3,2)\r\n",
    "ax2.plot(bins2,counts2)\r\n",
    "ax2.set_title('Histograma segunda imagen')\r\n",
    "\r\n",
    "ax3 = fig.add_subplot(1,3,3)\r\n",
    "ax3.plot(bins3,counts3)\r\n",
    "ax3.set_title('Histograma tercera imagen')"
   ]
  },
  {
   "cell_type": "markdown",
   "metadata": {
    "collapsed": false,
    "id": "538N77bYOKb0"
   },
   "source": [
    "Con estos dos ejemplos podemos ver que las imágenes tienen tamaños diferentes así como también dimensiones distintas por lo que será necesario normalizar el tamaño y la escala de grises. "
   ]
  },
  {
   "cell_type": "markdown",
   "metadata": {
    "collapsed": false,
    "id": "xPzcn1m1OKb1"
   },
   "source": [
    "## 2. Preprocesado"
   ]
  },
  {
   "cell_type": "markdown",
   "metadata": {
    "collapsed": false
   },
   "source": [
    "En este apartado se llevará a cabo la normalización de las imágenes tanto en tamaño (donde se asignará el tamaño medio de todas a cada imagen de manera que no se pierda mucha resolución en algunas) como en niveles de gris (teniendo los valores de gris en un rango entre cero y uno)."
   ]
  },
  {
   "cell_type": "code",
   "execution_count": 0,
   "metadata": {
    "colab": {
     "base_uri": "https://localhost:8080/"
    },
    "collapsed": false,
    "id": "7DQfa4W7OKb1",
    "outputId": "ec48be37-0648-4b13-f308-a28eb5bd113c"
   },
   "outputs": [
    {
     "name": "stdout",
     "output_type": "stream",
     "text": [
      "200 200\n",
      "957 821\n",
      "[957, 768, 725, 708, 690, 690, 497, 500, 498, 288, 285, 635, 559, 601, 612, 495, 491, 623, 589, 582, 437, 608, 505, 301, 518, 604, 605, 564, 648, 623, 564, 413, 423, 624, 597, 615, 548, 652, 543, 591, 597, 358, 350, 509, 493, 528, 454, 459, 591, 559, 466, 415, 508, 520, 396, 410, 407, 555, 558, 238, 232, 632, 621, 649, 627, 290, 281, 405, 386, 554, 518, 582, 627, 577, 554, 338, 378, 293, 300, 367, 372, 641, 599, 456, 609, 410, 404, 353, 352, 337, 272, 467, 454, 443, 622, 576, 304, 576, 573, 544, 511, 504, 336, 422, 290, 283, 399, 408, 416, 315, 317, 317, 504, 435, 265, 269, 294, 296, 299, 287, 281, 287, 290, 290, 267, 271, 298, 291, 284, 468, 451, 454, 450, 513, 520, 530, 512, 521, 509, 464, 461, 462, 426, 424, 409, 301, 295, 293, 308, 292, 299, 241, 232, 276, 263, 268, 267, 265, 278, 270, 252, 251, 437, 436, 441, 465, 464, 457, 460, 456, 452, 430, 422, 414, 400, 361, 348, 326, 582, 591, 622, 392, 630, 629, 323, 325, 305, 308, 251, 251, 251, 225, 158, 225, 227, 223, 199, 230, 135, 220] [821, 622, 662, 614, 609, 574, 341, 372, 409, 231, 247, 540, 531, 504, 505, 435, 426, 507, 495, 503, 349, 506, 413, 273, 399, 473, 550, 515, 555, 512, 507, 345, 346, 483, 449, 445, 466, 451, 448, 467, 463, 318, 313, 522, 510, 414, 384, 388, 463, 404, 355, 360, 418, 426, 294, 293, 298, 456, 450, 197, 188, 544, 524, 522, 488, 229, 242, 321, 318, 408, 382, 479, 543, 538, 449, 281, 280, 247, 262, 303, 291, 515, 484, 345, 481, 317, 321, 277, 279, 271, 230, 378, 420, 338, 487, 498, 236, 436, 431, 447, 352, 361, 264, 345, 224, 227, 278, 274, 274, 230, 229, 239, 427, 327, 200, 212, 250, 258, 261, 253, 237, 248, 262, 250, 237, 249, 281, 261, 245, 361, 343, 363, 344, 413, 420, 413, 410, 425, 416, 324, 326, 315, 311, 329, 312, 243, 257, 247, 252, 272, 262, 183, 182, 217, 222, 224, 235, 230, 226, 228, 230, 218, 382, 358, 374, 378, 387, 388, 372, 375, 383, 372, 363, 352, 351, 327, 324, 298, 470, 467, 508, 301, 483, 500, 255, 252, 253, 251, 201, 201, 201, 225, 134, 225, 222, 226, 190, 219, 140, 229]\n",
      "433 355\n"
     ]
    }
   ],
   "source": [
    "#Obtenemos los valores de dimensiones máximos y calculamos datos como el valor medio para hacer el resize de las imágenes\n",
    "shape0 = []\n",
    "shape1 = []\n",
    "\n",
    "for i in range(0,len(array_imagenes)):\n",
    "    imagen = array_imagenes[i]\n",
    "    shape0.append(imagen.shape[0])\n",
    "    shape1.append(imagen.shape[1])\n",
    "    \n",
    "print(len(shape0),len(shape1))\n",
    "print(max(shape0),max(shape1)) #Ambos tamaños son de la primera imagen\n",
    "print(shape0,shape1)\n",
    "\n",
    "#Hallamos la media para las dimensiones\n",
    "media_filas = int(np.mean(shape0))\n",
    "media_columnas = int(np.mean(shape1))\n",
    "print(media_filas,media_columnas)"
   ]
  },
  {
   "cell_type": "code",
   "execution_count": 0,
   "metadata": {
    "colab": {
     "base_uri": "https://localhost:8080/",
     "height": 303
    },
    "collapsed": false,
    "id": "VulSZ1n7OKb1",
    "outputId": "916029f3-7bab-458a-ee50-b796cd992a66"
   },
   "outputs": [
    {
     "name": "stdout",
     "output_type": "stream",
     "text": [
      "255.0\n"
     ]
    },
    {
     "data": {
      "text/plain": [
       "<matplotlib.image.AxesImage at 0x7fad6bf66f98>"
      ]
     },
     "execution_count": 0,
     "metadata": {
      "tags": [
      ]
     },
     "output_type": "execute_result"
    },
    {
     "data": {
      "image/png": "[encoded data removed]",
      "text/plain": [
       "<Figure size 432x288 with 1 Axes>"
      ]
     },
     "execution_count": 0,
     "metadata": {
      "needs_background": "light",
      "tags": [
      ]
     },
     "output_type": "execute_result"
    }
   ],
   "source": [
    "#Transformamos la imagen escala de gris sin que sea multicanal para saber que se puede aplicar a todas las imágenes\n",
    "imagen_monocanal = np.mean(array_imagenes[2], axis=2)\n",
    "print(np.max(imagen_monocanal))\n",
    "plt.imshow(imagen_monocanal,cmap='gray')"
   ]
  },
  {
   "cell_type": "code",
   "execution_count": 0,
   "metadata": {
    "colab": {
     "base_uri": "https://localhost:8080/",
     "height": 733
    },
    "collapsed": false,
    "id": "ekHlpZDVOKb2",
    "outputId": "86eeda23-9247-4a70-a09b-3dae5ba570fd"
   },
   "outputs": [
    {
     "data": {
      "text/plain": [
       "Text(0.5, 1.0, 'Histograma imagen original')"
      ]
     },
     "execution_count": 0,
     "metadata": {
      "tags": [
      ]
     },
     "output_type": "execute_result"
    },
    {
     "data": {
      "image/png": "[encoded data removed]",
      "text/plain": [
       "<Figure size 720x864 with 2 Axes>"
      ]
     },
     "execution_count": 0,
     "metadata": {
      "needs_background": "light",
      "tags": [
      ]
     },
     "output_type": "execute_result"
    }
   ],
   "source": [
    "#Podemos ver de esta manera que hemos realizado la normalización de esta imagen correcta ya que los histogramas son iguales\n",
    "imagen_normalizada = imagen_monocanal/np.max(imagen_monocanal)\n",
    "counts, bins = exposure.histogram(imagen_normalizada)\n",
    "counts2, bins2 = exposure.histogram(imagen_monocanal)\n",
    "\n",
    "\n",
    "fig = plt.figure(figsize=(10, 12))\n",
    "ax1 = fig.add_subplot(1,2,1)\n",
    "ax1.plot(bins,counts)\n",
    "ax1.set_title('Histograma imagen normalizada')\n",
    "\n",
    "ax2 = fig.add_subplot(1,2,2)\n",
    "ax2.plot(bins2,counts2)\n",
    "ax2.set_title('Histograma imagen original')"
   ]
  },
  {
   "cell_type": "code",
   "execution_count": 0,
   "metadata": {
    "colab": {
     "base_uri": "https://localhost:8080/"
    },
    "collapsed": false,
    "id": "IFEtUOwhOKb2",
    "outputId": "81107a8f-3a46-4566-ea90-e2189d73a712"
   },
   "outputs": [
    {
     "name": "stdout",
     "output_type": "stream",
     "text": [
      "200\n"
     ]
    }
   ],
   "source": [
    "#En esta celda se producirá la normalización tanto de valores de gris como de tamaño\n",
    "\n",
    "from skimage.transform import resize\n",
    "\n",
    "imagenes_pre = []\n",
    "\n",
    "for i in range(0,len(array_imagenes)):\n",
    "    imagen = array_imagenes[i]\n",
    "    imagen_monocanal = np.mean(imagen, axis=2)\n",
    "    imagen_resize = resize(imagen_monocanal, (media_filas, media_columnas))\n",
    "    imagen_normalizada = imagen_resize/np.max(imagen_resize)\n",
    "    imagenes_pre.append(imagen_normalizada)\n",
    "    if type(array_imagenes[i]) == \"uint8\":\n",
    "        imagen_normalizada = imagen_resize/255\n",
    "    elif type(array_imagenes[i]) == \"uint8\":\n",
    "        imagen_normalizada = imagen_resize/65535\n",
    "    else:\n",
    "        print(type())\n",
    "print(len(imagenes_pre))\n"
   ]
  },
  {
   "cell_type": "code",
   "execution_count": 0,
   "metadata": {
    "collapsed": false
   },
   "outputs": [
   ],
   "source": [
    "Normalizamos el tamaño de las imagenes al tamaño medio de todas ellas y normalizamos los valores de "
   ]
  },
  {
   "cell_type": "code",
   "execution_count": 0,
   "metadata": {
    "colab": {
     "base_uri": "https://localhost:8080/",
     "height": 286
    },
    "collapsed": false,
    "id": "nsKUcimzOKb2",
    "outputId": "69cd9e30-3638-4f6d-f3e9-039301825c0b"
   },
   "outputs": [
    {
     "name": "stdout",
     "output_type": "stream",
     "text": [
      "(433, 355) (433, 355)\n"
     ]
    },
    {
     "data": {
      "image/png": "[encoded data removed]",
      "text/plain": [
       "<Figure size 432x288 with 1 Axes>"
      ]
     },
     "execution_count": 0,
     "metadata": {
      "needs_background": "light",
      "tags": [
      ]
     },
     "output_type": "execute_result"
    }
   ],
   "source": [
    "plt.imshow(imagenes_pre[2],cmap='gray')\n",
    "print(imagenes_pre[2].shape,imagenes_pre[120].shape) #Podemos ver que las hemos dejado todas iguales"
   ]
  },
  {
   "cell_type": "markdown",
   "metadata": {
    "collapsed": false,
    "id": "dlUz-LVwOKb3"
   },
   "source": [
    "## 3. Diseño de la red convolucional / 4. Entrenamiento y evaluación de la red"
   ]
  },
  {
   "cell_type": "code",
   "execution_count": 0,
   "metadata": {
    "collapsed": false,
    "id": "BcP2cPu9OKb3"
   },
   "outputs": [
   ],
   "source": [
    "#Ponemos la lista de imágenes como array y las ponemos en el input\r\n",
    "images = np.array(imagenes_pre)\r\n",
    "etiquetas = data['hemorrhage']"
   ]
  },
  {
   "cell_type": "code",
   "execution_count": 0,
   "metadata": {
    "collapsed": false,
    "id": "x8_yvDeO-FoY"
   },
   "outputs": [
   ],
   "source": [
    "train_images, test_images, train_labels, test_labels = train_test_split(images,etiquetas,test_size = 0.2,random_state = 20)"
   ]
  },
  {
   "cell_type": "code",
   "execution_count": 0,
   "metadata": {
    "collapsed": false,
    "id": "oHCg2G8OHBjd"
   },
   "outputs": [
   ],
   "source": [
    "#Creamos la red neuronal ( de momento ésta funciona y la anterior no)\r\n",
    "model = keras.Sequential([\r\n",
    "    keras.layers.Flatten(input_shape=(433, 355)),\r\n",
    "    keras.layers.Dense(128, activation='relu'),\r\n",
    "    keras.layers.Dense(2, activation='softmax')\r\n",
    "])"
   ]
  },
  {
   "cell_type": "code",
   "execution_count": 0,
   "metadata": {
    "collapsed": false,
    "id": "sJOclE2L-yOC"
   },
   "outputs": [
   ],
   "source": [
    "#Compilamos\r\n",
    "model.compile(optimizer = 'adam', loss = 'sparse_categorical_crossentropy', metrics=['accuracy'])"
   ]
  },
  {
   "cell_type": "code",
   "execution_count": 0,
   "metadata": {
    "colab": {
     "base_uri": "https://localhost:8080/"
    },
    "collapsed": false,
    "id": "Si3EdTGm-yQU",
    "outputId": "7983909f-1094-4c97-b86b-89d7c728bd22"
   },
   "outputs": [
    {
     "name": "stdout",
     "output_type": "stream",
     "text": [
      "Epoch 1/10\n",
      "5/5 [==============================] - 1s 126ms/step - loss: 63.5130 - accuracy: 0.4962\n",
      "Epoch 2/10\n",
      "5/5 [==============================] - 1s 124ms/step - loss: 55.5880 - accuracy: 0.4909\n",
      "Epoch 3/10\n",
      "5/5 [==============================] - 1s 122ms/step - loss: 33.0398 - accuracy: 0.5472\n",
      "Epoch 4/10\n",
      "5/5 [==============================] - 1s 122ms/step - loss: 12.4303 - accuracy: 0.5339\n",
      "Epoch 5/10\n",
      "5/5 [==============================] - 1s 118ms/step - loss: 7.1206 - accuracy: 0.5865\n",
      "Epoch 6/10\n",
      "5/5 [==============================] - 1s 118ms/step - loss: 8.3526 - accuracy: 0.5453\n",
      "Epoch 7/10\n",
      "5/5 [==============================] - 1s 115ms/step - loss: 4.3978 - accuracy: 0.6523\n",
      "Epoch 8/10\n",
      "5/5 [==============================] - 1s 121ms/step - loss: 2.7826 - accuracy: 0.7567\n",
      "Epoch 9/10\n",
      "5/5 [==============================] - 1s 123ms/step - loss: 2.9273 - accuracy: 0.6825\n",
      "Epoch 10/10\n",
      "5/5 [==============================] - 1s 116ms/step - loss: 3.1764 - accuracy: 0.7586\n"
     ]
    },
    {
     "data": {
      "text/plain": [
       "<tensorflow.python.keras.callbacks.History at 0x7fad2fa29400>"
      ]
     },
     "execution_count": 0,
     "metadata": {
      "tags": [
      ]
     },
     "output_type": "execute_result"
    }
   ],
   "source": [
    "model.fit(train_images, train_labels, epochs=10)"
   ]
  },
  {
   "cell_type": "code",
   "execution_count": 0,
   "metadata": {
    "colab": {
     "base_uri": "https://localhost:8080/"
    },
    "collapsed": false,
    "id": "8LAWAmXqHT9Q",
    "outputId": "c966422b-0483-466f-f80e-672a4ae0d847"
   },
   "outputs": [
    {
     "name": "stdout",
     "output_type": "stream",
     "text": [
      "2/2 [==============================] - 0s 16ms/step - loss: 2.0018 - accuracy: 0.8000\n"
     ]
    },
    {
     "data": {
      "text/plain": [
       "[2.001786231994629, 0.800000011920929]"
      ]
     },
     "execution_count": 0,
     "metadata": {
      "tags": [
      ]
     },
     "output_type": "execute_result"
    }
   ],
   "source": [
    "#Evaluamos en test\r\n",
    "model.evaluate(test_images, test_labels)"
   ]
  },
  {
   "cell_type": "code",
   "execution_count": 0,
   "metadata": {
    "collapsed": false,
    "id": "0hxsLTRhMLv3"
   },
   "outputs": [
   ],
   "source": [
    "##############################################"
   ]
  },
  {
   "cell_type": "code",
   "execution_count": 0,
   "metadata": {
    "collapsed": false,
    "id": "1HliQ6m5-yLx"
   },
   "outputs": [
   ],
   "source": [
    "#Creamos la red neuronal de conv y pooling \r\n",
    "model = tf.keras.Sequential([\r\n",
    "    tf.keras.layers.Conv2D(32, (3, 3), activation = 'relu',input_shape = (433, 355,1)), \r\n",
    "    tf.keras.layers.MaxPooling2D(2,2),\r\n",
    "    tf.keras.layers.Conv2D(32, (3, 3), activation = 'relu'),\r\n",
    "    tf.keras.layers.MaxPooling2D(2,2),\r\n",
    "    tf.keras.layers.Flatten(),\r\n",
    "    tf.keras.layers.Dense(128, activation=tf.nn.relu),\r\n",
    "    tf.keras.layers.Dense(2, activation=tf.nn.softmax)\r\n",
    "])\r\n",
    "\r\n"
   ]
  },
  {
   "cell_type": "code",
   "execution_count": 0,
   "metadata": {
    "collapsed": false,
    "id": "WXpGNX8K-yS3"
   },
   "outputs": [
   ],
   "source": [
    "model.compile(optimizer = 'adam', loss = 'sparse_categorical_crossentropy', metrics=['accuracy'])"
   ]
  },
  {
   "cell_type": "code",
   "execution_count": 0,
   "metadata": {
    "colab": {
     "base_uri": "https://localhost:8080/"
    },
    "collapsed": false,
    "id": "ojU8SpLpOKb4",
    "outputId": "85123506-fe89-4995-c292-1f11137aff9a"
   },
   "outputs": [
    {
     "name": "stdout",
     "output_type": "stream",
     "text": [
      "Epoch 1/5\n",
      "13/13 [==============================] - 22s 2s/step - loss: 6.3450 - accuracy: 0.5374 - val_loss: 1.1163 - val_accuracy: 0.5000\n",
      "Epoch 2/5\n",
      "13/13 [==============================] - 20s 2s/step - loss: 0.6043 - accuracy: 0.7204 - val_loss: 0.6662 - val_accuracy: 0.5625\n",
      "Epoch 3/5\n",
      "13/13 [==============================] - 20s 2s/step - loss: 0.4465 - accuracy: 0.8022 - val_loss: 0.6193 - val_accuracy: 0.7188\n",
      "Epoch 4/5\n",
      "13/13 [==============================] - 20s 2s/step - loss: 0.2574 - accuracy: 0.9406 - val_loss: 0.5955 - val_accuracy: 0.6875\n",
      "Epoch 5/5\n",
      "13/13 [==============================] - 20s 2s/step - loss: 0.1705 - accuracy: 0.9301 - val_loss: 0.5773 - val_accuracy: 0.7812\n"
     ]
    },
    {
     "data": {
      "text/plain": [
       "<tensorflow.python.keras.callbacks.History at 0x7fad2ca2d748>"
      ]
     },
     "execution_count": 0,
     "metadata": {
      "tags": [
      ]
     },
     "output_type": "execute_result"
    }
   ],
   "source": [
    "#Antes de introducir el fit , hay que hacer un reshape a train para que sea de 4 dimensiones, es lo que piden las neuronas\r\n",
    "train_imagenes = train_images.reshape(-1, 433, 355, 1)\r\n",
    "model.fit(train_imagenes, train_labels, batch_size=10, epochs=5, validation_split = 0.2)"
   ]
  },
  {
   "cell_type": "code",
   "execution_count": 0,
   "metadata": {
    "colab": {
     "base_uri": "https://localhost:8080/"
    },
    "collapsed": false,
    "id": "5zCX9sydUwhB",
    "outputId": "d1fe4095-d33d-4bd7-e1de-de908c2099aa"
   },
   "outputs": [
    {
     "name": "stdout",
     "output_type": "stream",
     "text": [
      "2/2 [==============================] - 2s 287ms/step - loss: 0.5947 - accuracy: 0.7500\n"
     ]
    },
    {
     "data": {
      "text/plain": [
       "[0.594650149345398, 0.75]"
      ]
     },
     "execution_count": 0,
     "metadata": {
      "tags": [
      ]
     },
     "output_type": "execute_result"
    }
   ],
   "source": [
    "#Evaluamos en test\r\n",
    "test_imagenes = test_images.reshape(-1, 433, 355, 1)\r\n",
    "model.evaluate(test_imagenes, test_labels)"
   ]
  },
  {
   "cell_type": "code",
   "execution_count": 0,
   "metadata": {
    "colab": {
     "base_uri": "https://localhost:8080/"
    },
    "collapsed": false,
    "id": "Ll5pp6HEPcqO",
    "outputId": "4b972d0a-67b4-4c94-cc9f-858de3525a62"
   },
   "outputs": [
    {
     "data": {
      "text/plain": [
       "numpy.ndarray"
      ]
     },
     "execution_count": 0,
     "metadata": {
      "tags": [
      ]
     },
     "output_type": "execute_result"
    }
   ],
   "source": [
    "type(train_images)"
   ]
  },
  {
   "cell_type": "code",
   "execution_count": 0,
   "metadata": {
    "colab": {
     "base_uri": "https://localhost:8080/"
    },
    "collapsed": false,
    "id": "vgchjJeCOKb5",
    "outputId": "8db7c464-a88d-4302-a300-2572ac41b8cd"
   },
   "outputs": [
    {
     "data": {
      "text/plain": [
       "(160, 433, 355)"
      ]
     },
     "execution_count": 0,
     "metadata": {
      "tags": [
      ]
     },
     "output_type": "execute_result"
    }
   ],
   "source": [
    "train_images.shape"
   ]
  },
  {
   "cell_type": "code",
   "execution_count": 0,
   "metadata": {
    "colab": {
     "base_uri": "https://localhost:8080/"
    },
    "collapsed": false,
    "id": "iCzLDtn5OKb5",
    "outputId": "5f7cf818-21bd-47fb-9474-5a4f8113ae2b"
   },
   "outputs": [
    {
     "data": {
      "text/plain": [
       "(160,)"
      ]
     },
     "execution_count": 0,
     "metadata": {
      "tags": [
      ]
     },
     "output_type": "execute_result"
    }
   ],
   "source": [
    "train_labels.shape"
   ]
  },
  {
   "cell_type": "code",
   "execution_count": 0,
   "metadata": {
    "collapsed": false,
    "id": "nG_LL9AfOKb5"
   },
   "outputs": [
   ],
   "source": [
    "train_imagenes = train_images.reshape(160,433,355,1)"
   ]
  },
  {
   "cell_type": "code",
   "execution_count": 0,
   "metadata": {
    "colab": {
     "base_uri": "https://localhost:8080/"
    },
    "collapsed": false,
    "id": "75N9U1T0OKb5",
    "outputId": "065b3e82-f3fe-4ded-9431-ffd01754e860"
   },
   "outputs": [
    {
     "name": "stdout",
     "output_type": "stream",
     "text": [
      "(160, 433, 355, 1)\n"
     ]
    }
   ],
   "source": [
    "print(train_imagenes.shape)"
   ]
  },
  {
   "cell_type": "code",
   "execution_count": 0,
   "metadata": {
    "collapsed": false,
    "id": "dmgHffrYRPzG"
   },
   "outputs": [
   ],
   "source": [
    "###############################################################"
   ]
  },
  {
   "cell_type": "code",
   "execution_count": 0,
   "metadata": {
    "collapsed": false,
    "id": "H7Z2d6hY4K6X"
   },
   "outputs": [
   ],
   "source": [
    "import keras,os\r\n",
    "from keras.models import Sequential\r\n",
    "from keras.layers import Dense, Conv2D, MaxPool2D , Flatten\r\n",
    "from keras.preprocessing.image import ImageDataGenerator\r\n",
    "import numpy as np"
   ]
  },
  {
   "cell_type": "code",
   "execution_count": 0,
   "metadata": {
    "collapsed": false,
    "id": "gm9_QAYS4K88"
   },
   "outputs": [
   ],
   "source": [
    "model = Sequential()\r\n",
    "model.add(Conv2D(input_shape= (433, 355,1),filters=64,kernel_size=(3,3),padding=\"same\", activation=\"relu\"))\r\n",
    "model.add(Conv2D(filters=64,kernel_size=(3,3),padding=\"same\", activation=\"relu\"))\r\n",
    "model.add(MaxPool2D(pool_size=(2,2),strides=(2,2)))\r\n",
    "model.add(Conv2D(filters=128, kernel_size=(3,3), padding=\"same\", activation=\"relu\"))\r\n",
    "model.add(Conv2D(filters=128, kernel_size=(3,3), padding=\"same\", activation=\"relu\"))\r\n",
    "model.add(MaxPool2D(pool_size=(2,2),strides=(2,2)))\r\n",
    "model.add(Conv2D(filters=256, kernel_size=(3,3), padding=\"same\", activation=\"relu\"))\r\n",
    "model.add(Conv2D(filters=256, kernel_size=(3,3), padding=\"same\", activation=\"relu\"))\r\n",
    "model.add(Conv2D(filters=256, kernel_size=(3,3), padding=\"same\", activation=\"relu\"))\r\n",
    "model.add(MaxPool2D(pool_size=(2,2),strides=(2,2)))\r\n",
    "model.add(Conv2D(filters=512, kernel_size=(3,3), padding=\"same\", activation=\"relu\"))\r\n",
    "model.add(Conv2D(filters=512, kernel_size=(3,3), padding=\"same\", activation=\"relu\"))\r\n",
    "model.add(Conv2D(filters=512, kernel_size=(3,3), padding=\"same\", activation=\"relu\"))\r\n",
    "model.add(MaxPool2D(pool_size=(2,2),strides=(2,2)))\r\n",
    "model.add(Conv2D(filters=512, kernel_size=(3,3), padding=\"same\", activation=\"relu\"))\r\n",
    "model.add(Conv2D(filters=512, kernel_size=(3,3), padding=\"same\", activation=\"relu\"))\r\n",
    "model.add(Conv2D(filters=512, kernel_size=(3,3), padding=\"same\", activation=\"relu\"))\r\n",
    "model.add(MaxPool2D(pool_size=(2,2),strides=(2,2)))\r\n",
    "\r\n",
    "model.add(Flatten())\r\n",
    "model.add(Dense(units=4096,activation=\"relu\"))\r\n",
    "model.add(Dense(units=4096,activation=\"relu\"))\r\n",
    "model.add(Dense(units=2, activation=\"softmax\"))"
   ]
  },
  {
   "cell_type": "code",
   "execution_count": 0,
   "metadata": {
    "collapsed": false,
    "id": "xHIMS-jL4iR1"
   },
   "outputs": [
   ],
   "source": [
    "model.compile(optimizer = 'adam', loss = 'sparse_categorical_crossentropy', metrics=['accuracy'])"
   ]
  },
  {
   "cell_type": "code",
   "execution_count": 0,
   "metadata": {
    "colab": {
     "base_uri": "https://localhost:8080/"
    },
    "collapsed": false,
    "id": "Cz5KciPq4iUW",
    "outputId": "b26d3f91-0001-4589-d759-dba6fdca061e"
   },
   "outputs": [
    {
     "name": "stdout",
     "output_type": "stream",
     "text": [
      "Epoch 1/5\n",
      "13/13 [==============================] - 754s 58s/step - loss: 0.9745 - accuracy: 0.3554 - val_loss: 0.6913 - val_accuracy: 0.5312\n",
      "Epoch 2/5\n",
      "13/13 [==============================] - 744s 57s/step - loss: 0.6974 - accuracy: 0.4762 - val_loss: 0.6913 - val_accuracy: 0.5312\n",
      "Epoch 3/5\n",
      "13/13 [==============================] - 745s 58s/step - loss: 0.6903 - accuracy: 0.5666 - val_loss: 0.6914 - val_accuracy: 0.5312\n",
      "Epoch 4/5\n",
      "13/13 [==============================] - 742s 57s/step - loss: 0.6919 - accuracy: 0.5366 - val_loss: 0.6912 - val_accuracy: 0.5312\n",
      "Epoch 5/5\n",
      "13/13 [==============================] - 741s 57s/step - loss: 0.6954 - accuracy: 0.5030 - val_loss: 0.6912 - val_accuracy: 0.5312\n"
     ]
    },
    {
     "data": {
      "text/plain": [
       "<tensorflow.python.keras.callbacks.History at 0x7f74125005c0>"
      ]
     },
     "execution_count": 0,
     "metadata": {
      "tags": [
      ]
     },
     "output_type": "execute_result"
    }
   ],
   "source": [
    "#Antes de introducir el fit , hay que hacer un reshape a train para que sea de 4 dimensiones, es lo que piden las neuronas\r\n",
    "train_imagenes = train_images.reshape(-1, 433, 355, 1)\r\n",
    "model.fit(train_imagenes, train_labels, batch_size=10, epochs=5, validation_split = 0.2)"
   ]
  },
  {
   "cell_type": "code",
   "execution_count": 0,
   "metadata": {
    "colab": {
     "base_uri": "https://localhost:8080/"
    },
    "collapsed": false,
    "id": "UAp73SNn4iWm",
    "outputId": "9727a9d1-7c6b-436f-d03e-c70898937369"
   },
   "outputs": [
    {
     "name": "stdout",
     "output_type": "stream",
     "text": [
      "2/2 [==============================] - 59s 12s/step - loss: 0.7137 - accuracy: 0.3500\n"
     ]
    },
    {
     "data": {
      "text/plain": [
       "[0.7137166857719421, 0.3499999940395355]"
      ]
     },
     "execution_count": 0,
     "metadata": {
      "tags": [
      ]
     },
     "output_type": "execute_result"
    }
   ],
   "source": [
    "#Evaluamos en test\r\n",
    "test_imagenes = test_images.reshape(-1, 433, 355, 1)\r\n",
    "model.evaluate(test_imagenes, test_labels)"
   ]
  },
  {
   "cell_type": "code",
   "execution_count": 0,
   "metadata": {
    "collapsed": false,
    "id": "-nRNH4WJ4ibk"
   },
   "outputs": [
   ],
   "source": [
   ]
  },
  {
   "cell_type": "code",
   "execution_count": 0,
   "metadata": {
    "collapsed": false,
    "id": "yHZipcM34K_U"
   },
   "outputs": [
   ],
   "source": [
   ]
  },
  {
   "cell_type": "code",
   "execution_count": 0,
   "metadata": {
    "collapsed": false,
    "id": "IDcgPFh14LCA"
   },
   "outputs": [
   ],
   "source": [
   ]
  },
  {
   "cell_type": "code",
   "execution_count": 0,
   "metadata": {
    "collapsed": false,
    "id": "jgeSvrks4LD6"
   },
   "outputs": [
   ],
   "source": [
   ]
  },
  {
   "cell_type": "code",
   "execution_count": 0,
   "metadata": {
    "collapsed": false,
    "id": "wdSVgqZ74LGl"
   },
   "outputs": [
   ],
   "source": [
   ]
  },
  {
   "cell_type": "code",
   "execution_count": 0,
   "metadata": {
    "collapsed": false,
    "id": "2X7UhHyf4LIs"
   },
   "outputs": [
   ],
   "source": [
   ]
  },
  {
   "cell_type": "code",
   "execution_count": 0,
   "metadata": {
    "collapsed": false,
    "id": "gv6lf9eY4LLp"
   },
   "outputs": [
   ],
   "source": [
   ]
  }
 ],
 "metadata": {
  "colab": {
   "collapsed_sections": [
   ],
   "name": "Practica_4_AIM.ipynb",
   "provenance": [
   ]
  },
  "kernelspec": {
   "display_name": "Python 3 (system-wide)",
   "language": "python",
   "metadata": {
    "cocalc": {
     "description": "Python 3 programming language",
     "priority": 100,
     "url": "https://www.python.org/"
    }
   },
   "name": "python3",
   "resource_dir": "/ext/jupyter/kernels/python3"
  },
  "language_info": {
   "codemirror_mode": {
    "name": "ipython",
    "version": 3
   },
   "file_extension": ".py",
   "mimetype": "text/x-python",
   "name": "python",
   "nbconvert_exporter": "python",
   "pygments_lexer": "ipython3",
   "version": "3.8.5"
  }
 },
 "nbformat": 4,
 "nbformat_minor": 4
}